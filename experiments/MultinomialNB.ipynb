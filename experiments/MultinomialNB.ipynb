{
  "cells": [
    {
      "cell_type": "markdown",
      "id": "5c5d3fc0",
      "metadata": {
        "id": "5c5d3fc0"
      },
      "source": [
        "## Using Multinomial Naive Bayes and TD-IDF Vectorizer"
      ]
    },
    {
      "cell_type": "code",
      "execution_count": null,
      "id": "78049da6",
      "metadata": {
        "colab": {
          "base_uri": "https://localhost:8080/"
        },
        "id": "78049da6",
        "outputId": "a62c9334-4c25-451e-db6b-5e7a6908726e"
      },
      "outputs": [
        {
          "name": "stdout",
          "output_type": "stream",
          "text": [
            "  label                                            message\n",
            "0   ham  Go until jurong point, crazy.. Available only ...\n",
            "1   ham                      Ok lar... Joking wif u oni...\n",
            "2  spam  Free entry in 2 a wkly comp to win FA Cup fina...\n",
            "3   ham  U dun say so early hor... U c already then say...\n",
            "4   ham  Nah I don't think he goes to usf, he lives aro...\n"
          ]
        }
      ],
      "source": [
        "import pandas as pd\n",
        "\n",
        "path=\"../src/hamvsspam.csv\"\n",
        "\n",
        "df = pd.read_csv(\"../src/hamvsspam.csv\", encoding='latin1')\n",
        "\n",
        "# Keep only the first two columns (label and message)\n",
        "df = df.iloc[:, :2]\n",
        "\n",
        "# Rename the columns\n",
        "df.columns = ['label', 'message']\n",
        "\n",
        "print(df.head())\n",
        "\n"
      ]
    },
    {
      "cell_type": "code",
      "execution_count": null,
      "id": "0bc54a0c",
      "metadata": {
        "id": "0bc54a0c"
      },
      "outputs": [],
      "source": [
        "\n",
        "X=df['message']\n",
        "y=df['label']"
      ]
    },
    {
      "cell_type": "code",
      "execution_count": null,
      "id": "d7965314",
      "metadata": {
        "id": "d7965314"
      },
      "outputs": [],
      "source": [
        "from sklearn.model_selection import train_test_split\n",
        "\n",
        "X_train, X_test, y_train, y_test=train_test_split(X,y,test_size=0.25,random_state=42)"
      ]
    },
    {
      "cell_type": "code",
      "execution_count": null,
      "id": "739aaf78",
      "metadata": {
        "id": "739aaf78"
      },
      "outputs": [],
      "source": [
        "from sklearn.feature_extraction.text import TfidfVectorizer\n",
        "\n",
        "'''\n",
        "This is a text preprocessing tool from sklearn.feature_extraction.text.\n",
        "\n",
        "- It turns raw text into numbers so machine learning models can understand it.\n",
        "\n",
        "- It uses TF-IDF (Term Frequency–Inverse Document Frequency) to assign importance to words.\n",
        "\n",
        "- Output is a sparse matrix where each row is a message and each column is a word feature.\n",
        "'''\n",
        "\n",
        "from sklearn.naive_bayes import MultinomialNB\n",
        "\n",
        "'''\n",
        "This is a machine learning model from sklearn.naive_bayes that's ideal for text classification, especially when features are word counts or TF-IDF scores.\n",
        "\n",
        "- Based on Bayes’ Theorem.\n",
        "\n",
        "- Assumes word features are conditionally independent.\n",
        "\n",
        "- Works well for spam detection, sentiment analysis, etc.\n",
        "'''\n",
        "\n",
        "from sklearn.pipeline import make_pipeline\n",
        "from sklearn.metrics import classification_report\n",
        "\n",
        "# Create a pipeline: TF-IDF → Naive Bayes\n",
        "model = make_pipeline(TfidfVectorizer(), MultinomialNB())\n",
        "\n",
        "# Train the model\n",
        "model.fit(X_train, y_train)\n",
        "\n",
        "# Predict on train set\n",
        "y_pred_train = model.predict(X_train)\n",
        "\n",
        "# Predict on test set\n",
        "y_pred_test = model.predict(X_test)\n",
        "\n"
      ]
    },
    {
      "cell_type": "code",
      "execution_count": null,
      "id": "923d9153",
      "metadata": {
        "colab": {
          "base_uri": "https://localhost:8080/"
        },
        "id": "923d9153",
        "outputId": "03343b05-698f-498a-f9ea-c5d18fad7e14"
      },
      "outputs": [
        {
          "name": "stdout",
          "output_type": "stream",
          "text": [
            "              precision    recall  f1-score   support\n",
            "\n",
            "         ham       0.98      1.00      0.99      4987\n",
            "        spam       1.00      0.86      0.92       767\n",
            "\n",
            "    accuracy                           0.98      5754\n",
            "   macro avg       0.99      0.93      0.96      5754\n",
            "weighted avg       0.98      0.98      0.98      5754\n",
            "\n",
            "              precision    recall  f1-score   support\n",
            "\n",
            "         ham       0.97      1.00      0.98      1645\n",
            "        spam       1.00      0.79      0.88       274\n",
            "\n",
            "    accuracy                           0.97      1919\n",
            "   macro avg       0.98      0.89      0.93      1919\n",
            "weighted avg       0.97      0.97      0.97      1919\n",
            "\n"
          ]
        }
      ],
      "source": [
        "print(classification_report(y_train, y_pred_train))\n",
        "\n",
        "\n",
        "print(classification_report(y_test, y_pred_test))\n"
      ]
    }
  ],
  "metadata": {
    "accelerator": "GPU",
    "colab": {
      "gpuType": "T4",
      "provenance": []
    },
    "kernelspec": {
      "display_name": "Python 3",
      "name": "python3"
    },
    "language_info": {
      "codemirror_mode": {
        "name": "ipython",
        "version": 3
      },
      "file_extension": ".py",
      "mimetype": "text/x-python",
      "name": "python",
      "nbconvert_exporter": "python",
      "pygments_lexer": "ipython3",
      "version": "3.12.10"
    }
  },
  "nbformat": 4,
  "nbformat_minor": 5
}
